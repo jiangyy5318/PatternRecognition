{
 "cells": [
  {
   "cell_type": "markdown",
   "metadata": {},
   "source": [
    "### 1. Setup\n",
    "\n",
    "* First, set up Python, `numpy`, and `matplotlib`.\n",
    "* Load caffe\n",
    "* Load caffemodel\n",
    "* Load mean"
   ]
  },
  {
   "cell_type": "code",
   "execution_count": 1,
   "metadata": {
    "collapsed": false
   },
   "outputs": [
    {
     "name": "stderr",
     "output_type": "stream",
     "text": [
      "/usr/local/lib/anaconda2/lib/python2.7/site-packages/matplotlib/font_manager.py:273: UserWarning: Matplotlib is building the font cache using fc-list. This may take a moment.\n",
      "  warnings.warn('Matplotlib is building the font cache using fc-list. This may take a moment.')\n"
     ]
    }
   ],
   "source": [
    "# set up Python environment: numpy for numerical routines, and matplotlib for plotting\n",
    "import numpy as np\n",
    "import matplotlib.pyplot as plt\n",
    "# display plots in this notebook\n",
    "%matplotlib inline\n",
    "\n",
    "# set display defaults\n",
    "plt.rcParams['figure.figsize'] = (10, 10)        # large images\n",
    "plt.rcParams['image.interpolation'] = 'nearest'  # don't interpolate: show square pixels\n",
    "plt.rcParams['image.cmap'] = 'gray'  # use grayscale output rather than a (potentially misleading) color heatmap"
   ]
  },
  {
   "cell_type": "code",
   "execution_count": 2,
   "metadata": {
    "collapsed": false
   },
   "outputs": [
    {
     "name": "stderr",
     "output_type": "stream",
     "text": [
      "../python/caffe/pycaffe.py:13: RuntimeWarning: to-Python converter for boost::shared_ptr<caffe::Net<float> > already registered; second conversion method ignored.\n",
      "  from ._caffe import Net, SGDSolver, NesterovSolver, AdaGradSolver, \\\n",
      "../python/caffe/pycaffe.py:13: RuntimeWarning: to-Python converter for boost::shared_ptr<caffe::Blob<float> > already registered; second conversion method ignored.\n",
      "  from ._caffe import Net, SGDSolver, NesterovSolver, AdaGradSolver, \\\n",
      "../python/caffe/pycaffe.py:13: RuntimeWarning: to-Python converter for boost::shared_ptr<caffe::Solver<float> > already registered; second conversion method ignored.\n",
      "  from ._caffe import Net, SGDSolver, NesterovSolver, AdaGradSolver, \\\n"
     ]
    }
   ],
   "source": [
    "# The caffe module needs to be on the Python path;\n",
    "#  we'll add it here explicitly.\n",
    "import sys\n",
    "caffe_root = '../'  # this file should be run from {caffe_root}/examples (otherwise change this line)\n",
    "sys.path.insert(0, caffe_root + 'python')\n",
    "\n",
    "import caffe\n",
    "# If you get \"No module named _caffe\", either you have not built pycaffe or you have the wrong path."
   ]
  },
  {
   "cell_type": "code",
   "execution_count": 3,
   "metadata": {
    "collapsed": false
   },
   "outputs": [
    {
     "name": "stdout",
     "output_type": "stream",
     "text": [
      "CaffeNet found.\n"
     ]
    }
   ],
   "source": [
    "import os\n",
    "if os.path.isfile(caffe_root + 'examples/imagenet/caffenet_train_iter_49074.caffemodel'):\n",
    "    print 'CaffeNet found.'\n",
    "else:\n",
    "    print 'Downloading pre-trained CaffeNet model...'\n",
    "    !../scripts/download_model_binary.py ../models/bvlc_reference_caffenet"
   ]
  },
  {
   "cell_type": "code",
   "execution_count": 4,
   "metadata": {
    "collapsed": false
   },
   "outputs": [],
   "source": [
    "blob = caffe.proto.caffe_pb2.BlobProto()\n",
    "data = open(caffe_root+'data/ilsvrc12/imagenet_mean.binaryproto' , 'rb' ).read()\n",
    "blob.ParseFromString(data)\n",
    "arr = np.array( caffe.io.blobproto_to_array(blob) )\n",
    "out = arr[0]\n",
    "np.save(caffe_root+'examples/imagenet/tree_mean.npy', out )"
   ]
  },
  {
   "cell_type": "code",
   "execution_count": 5,
   "metadata": {
    "collapsed": false
   },
   "outputs": [],
   "source": [
    "caffe.set_mode_cpu()\n",
    "model_def = caffe_root + 'examples/imagenet/deploy.prototxt'\n",
    "model_weights = caffe_root + 'examples/imagenet/caffenet_train_iter_49074.caffemodel'\n",
    "\n",
    "net = caffe.Net(model_def,      # defines the structure of the model\n",
    "                model_weights,  # contains the trained weights\n",
    "                caffe.TEST)     # use test mode (e.g., don't perform dropout)"
   ]
  },
  {
   "cell_type": "code",
   "execution_count": 6,
   "metadata": {
    "collapsed": false
   },
   "outputs": [],
   "source": [
    "# load the mean ImageNet image (as distributed with Caffe) for subtraction\n",
    "mu = np.load(caffe_root + 'examples/imagenet/tree_mean.npy')\n",
    "mu = mu.mean(1).mean(1)  # average over pixels to obtain the mean (BGR) pixel values\n",
    "#print 'mean-subtracted values:', zip('BGR', mu)\n",
    "\n",
    "# create transformer for the input called 'data'\n",
    "transformer = caffe.io.Transformer({'data': net.blobs['data'].data.shape})\n",
    "\n",
    "transformer.set_transpose('data', (2,0,1))  # move image channels to outermost dimension\n",
    "transformer.set_mean('data', mu)            # subtract the dataset-mean value in each channel\n",
    "transformer.set_raw_scale('data', 255)      # rescale from [0, 1] to [0, 255]\n",
    "transformer.set_channel_swap('data', (2,1,0))  # swap channels from RGB to BGR"
   ]
  },
  {
   "cell_type": "markdown",
   "metadata": {},
   "source": [
    "# Extract feature:\n",
    "* extract feature \n",
    "* convert to the form of train_X,train_Y,test_X,test_Y\n",
    "* save it to .mat"
   ]
  },
  {
   "cell_type": "code",
   "execution_count": 27,
   "metadata": {
    "collapsed": false
   },
   "outputs": [],
   "source": [
    "\n",
    "def extract(path,str):\n",
    "    image = caffe.io.load_image(path)\n",
    "    transformed_image = transformer.preprocess('data', image)\n",
    "    net.blobs['data'].data[...] = transformed_image\n",
    "    output = net.forward()\n",
    "    return net.blobs[str].data[0]\n",
    "\n",
    "def DFSDATA(path,str):\n",
    "    #Cnt How many data in path,preparing for data.shape[0]\n",
    "    Cnt = sum([len(files)for root,dirs,files in os.walk(path)])\n",
    "    data = np.zeros(((Cnt,) + net.blobs[str].data[0].shape))\n",
    "    label = np.zeros((Cnt))\n",
    "    #how simun?\n",
    "    i = 0\n",
    "    for root,dirs,files in  os.walk(path):\n",
    "        for f in files:\n",
    "            \n",
    "            #extract feature for pic in os.path.join(root,f)\n",
    "            data[i] = extract(os.path.join(root,f),str)\n",
    "            label[i] = int(os.path.split(root)[-1][1])\n",
    "            i = i + 1\n",
    "    data = data.reshape((Cnt,-1))\n",
    "    \n",
    "    return data,label\n",
    "    \n",
    "def ExtractFeatureToMat(InPath,OutPath,str):\n",
    "    caffe.set_device(0)  # if we have multiple GPUs, pick the first one\n",
    "    caffe.set_mode_gpu()\n",
    "    # set the size of the input (we can skip this if we're happy\n",
    "    #  with the default; we can also change it later, e.g., for different batch sizes)\n",
    "    net.blobs['data'].reshape(50,        # batch size\n",
    "                              3,         # 3-channel (BGR) images\n",
    "                              227, 227)  # image size is 227x227\n",
    "    #print net.blobs[str].data[0].shape\n",
    "    import scipy.io as sio\n",
    "    train_X,train_Y = DFSDATA(InPath[0],str)\n",
    "    test_X,test_Y   = DFSDATA(InPath[1],str)    \n",
    "    sio.savemat(OutPath,mdict={'train_X':train_X,'train_Y':train_Y,'test_X':test_X,'test_Y':test_Y})\n",
    "    \n",
    "# source picture 256*256\n",
    "train_path = '/home/jiangyy/Desktop/tree/train'\n",
    "test_path = '/home/jiangyy/Desktop/tree/val'\n",
    "# out .mat path\n",
    "matpath = '/home/jiangyy/Desktop/tree/pool5.mat'\n",
    "ExtractFeatureToMat([train_path,test_path],matpath,'pool5')\n",
    "matpath = '/home/jiangyy/Desktop/tree/fc6.mat'\n",
    "ExtractFeatureToMat([train_path,test_path],matpath,'fc6')\n",
    "\n",
    "\n"
   ]
  }
 ],
 "metadata": {
  "description": "Instant recognition with a pre-trained model and a tour of the net interface for visualizing features and parameters layer-by-layer.",
  "example_name": "Image Classification and Filter Visualization",
  "include_in_docs": true,
  "kernelspec": {
   "display_name": "Python 2",
   "language": "python",
   "name": "python2"
  },
  "language_info": {
   "codemirror_mode": {
    "name": "ipython",
    "version": 2
   },
   "file_extension": ".py",
   "mimetype": "text/x-python",
   "name": "python",
   "nbconvert_exporter": "python",
   "pygments_lexer": "ipython2",
   "version": "2.7.11"
  },
  "priority": 1
 },
 "nbformat": 4,
 "nbformat_minor": 0
}
